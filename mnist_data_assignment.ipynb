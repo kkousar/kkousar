{
  "nbformat": 4,
  "nbformat_minor": 0,
  "metadata": {
    "colab": {
      "name": "Untitled11.ipynb",
      "provenance": [],
      "authorship_tag": "ABX9TyMTAt3VvnFF9Y3j++YSUFZz",
      "include_colab_link": true
    },
    "kernelspec": {
      "name": "python3",
      "display_name": "Python 3"
    },
    "language_info": {
      "name": "python"
    }
  },
  "cells": [
    {
      "cell_type": "markdown",
      "metadata": {
        "id": "view-in-github",
        "colab_type": "text"
      },
      "source": [
        "<a href=\"https://colab.research.google.com/github/kkousar/kkousar/blob/main/mnist_data_assignment.ipynb\" target=\"_parent\"><img src=\"https://colab.research.google.com/assets/colab-badge.svg\" alt=\"Open In Colab\"/></a>"
      ]
    },
    {
      "cell_type": "code",
      "execution_count": 41,
      "metadata": {
        "id": "iubPxkRnvHpX"
      },
      "outputs": [],
      "source": [
        "from keras.datasets import mnist"
      ]
    },
    {
      "cell_type": "code",
      "source": [
        "(train_X, train_y), (test_X, test_y) = mnist.load_data()"
      ],
      "metadata": {
        "id": "haHETCNovLnw"
      },
      "execution_count": 42,
      "outputs": []
    },
    {
      "cell_type": "code",
      "source": [
        "print('X_train: ' + str(train_X.shape))\n",
        "print('Y_train: ' + str(train_y.shape))\n",
        "print('X_test:  '  + str(test_X.shape))\n",
        "print('Y_test:  '  + str(test_y.shape))"
      ],
      "metadata": {
        "colab": {
          "base_uri": "https://localhost:8080/"
        },
        "id": "P04wPXzdvQwQ",
        "outputId": "6484edad-77a0-49ba-f908-23d51eb2d23d"
      },
      "execution_count": 43,
      "outputs": [
        {
          "output_type": "stream",
          "name": "stdout",
          "text": [
            "X_train: (60000, 28, 28)\n",
            "Y_train: (60000,)\n",
            "X_test:  (10000, 28, 28)\n",
            "Y_test:  (10000,)\n"
          ]
        }
      ]
    },
    {
      "cell_type": "markdown",
      "source": [
        "creating a dictionary "
      ],
      "metadata": {
        "id": "zzY8w__L80CK"
      }
    },
    {
      "cell_type": "code",
      "source": [
        "my_dict = {\"0\":[],\"1\":[],\"2\":[],\"3\":[],\"4\":[],\"5\":[],\"6\":[],\"7\":[],\"8\":[],\"9\":[]};"
      ],
      "metadata": {
        "id": "8VcplrpR2vfU"
      },
      "execution_count": 44,
      "outputs": []
    },
    {
      "cell_type": "code",
      "source": [
        "num = len(train_X);\n",
        "images = train_X[:num]\n",
        "labels = train_y[:num]"
      ],
      "metadata": {
        "id": "EBLCnJR2ygzu"
      },
      "execution_count": 45,
      "outputs": []
    },
    {
      "cell_type": "code",
      "source": [
        "for i in range(num):\n",
        "     if (labels[i]==0):\n",
        "            my_dict[\"0\"].append(images[i])\n",
        "     elif (labels[i]==1):\n",
        "            my_dict[\"1\"].append(images[i])\n",
        "     elif (labels[i]==2):\n",
        "            my_dict[\"2\"].append(images[i])\n",
        "     elif (labels[i]==3):\n",
        "            my_dict[\"3\"].append(images[i])\n",
        "     elif (labels[i]==4):\n",
        "            my_dict[\"4\"].append(images[i])\n",
        "     elif (labels[i]==5):\n",
        "            my_dict[\"5\"].append(images[i])\n",
        "     elif (labels[i]==6):\n",
        "            my_dict[\"6\"].append(images[i])\n",
        "     elif (labels[i]==7):\n",
        "            my_dict[\"7\"].append(images[i])\n",
        "     elif (labels[i]==8):\n",
        "            my_dict[\"8\"].append(images[i])\n",
        "     elif (labels[i]==9):\n",
        "            my_dict[\"9\"].append(images[i])                           "
      ],
      "metadata": {
        "id": "MpdIvUIKxt3Q"
      },
      "execution_count": 46,
      "outputs": []
    },
    {
      "cell_type": "markdown",
      "source": [
        "plotting respective images of dictionary"
      ],
      "metadata": {
        "id": "iPLByED18GGu"
      }
    },
    {
      "cell_type": "code",
      "source": [
        "import matplotlib.pyplot as plt\n",
        "\n",
        "n=15\n",
        "image = my_dict['4']\n",
        "num_row = 3\n",
        "num_col = 5\n",
        "# plot images\n",
        "fig, axes = plt.subplots(num_row, num_col, figsize=(1.5*num_col,2*num_row))\n",
        "for i in range(n):\n",
        "    ax = axes[i//num_col, i%num_col]\n",
        "    ax.imshow(image[i], cmap='gray')\n",
        "plt.tight_layout()\n",
        "plt.show()"
      ],
      "metadata": {
        "id": "IvawdLCA7rbB"
      },
      "execution_count": null,
      "outputs": []
    },
    {
      "cell_type": "markdown",
      "source": [
        "sampling"
      ],
      "metadata": {
        "id": "w512LECLMVSg"
      }
    },
    {
      "cell_type": "code",
      "source": [
        "my_dict2 = {\"0\":[],\"1\":[],\"2\":[],\"3\":[],\"4\":[],\"5\":[],\"6\":[],\"7\":[],\"8\":[],\"9\":[]};"
      ],
      "metadata": {
        "id": "Ofq9gMxIO-8c"
      },
      "execution_count": 72,
      "outputs": []
    },
    {
      "cell_type": "code",
      "source": [
        "def sample_data(batch_size,digit):\n",
        "  my_dict2 = {\"0\":[],\"1\":[],\"2\":[],\"3\":[],\"4\":[],\"5\":[],\"6\":[],\"7\":[],\"8\":[],\"9\":[]};\n",
        "  for j in range(batch_size):\n",
        "      my_dict2[str(j)].append(random.choice(my_dict[str(j)]));\n",
        "  for j in range(10):\n",
        "      for i in range(len(my_dict2[str(j)])):  \n",
        "        a = np.array([my_dict2[str(j)][i]]);\n",
        "        b=a.flatten();\n",
        "        my_dict2[str(j)][i]=b; \n",
        "  return  str( np.asarray(my_dict2[str(digit)]).shape)\n",
        "  "
      ],
      "metadata": {
        "id": "4QhFGxE4jYIU"
      },
      "execution_count": 131,
      "outputs": []
    },
    {
      "cell_type": "code",
      "source": [
        "sample_data(32,7)"
      ],
      "metadata": {
        "id": "_EJEmC-9keQQ",
        "outputId": "48039d78-76d1-4a23-b23a-8a54a9da1b88",
        "colab": {
          "base_uri": "https://localhost:8080/",
          "height": 282
        }
      },
      "execution_count": 132,
      "outputs": [
        {
          "output_type": "error",
          "ename": "KeyError",
          "evalue": "ignored",
          "traceback": [
            "\u001b[0;31m---------------------------------------------------------------------------\u001b[0m",
            "\u001b[0;31mKeyError\u001b[0m                                  Traceback (most recent call last)",
            "\u001b[0;32m<ipython-input-132-2fb97937635b>\u001b[0m in \u001b[0;36m<module>\u001b[0;34m()\u001b[0m\n\u001b[0;32m----> 1\u001b[0;31m \u001b[0msample_data\u001b[0m\u001b[0;34m(\u001b[0m\u001b[0;36m32\u001b[0m\u001b[0;34m,\u001b[0m\u001b[0;36m7\u001b[0m\u001b[0;34m)\u001b[0m\u001b[0;34m\u001b[0m\u001b[0;34m\u001b[0m\u001b[0m\n\u001b[0m",
            "\u001b[0;32m<ipython-input-131-fa4a822ccfbc>\u001b[0m in \u001b[0;36msample_data\u001b[0;34m(batch_size, digit)\u001b[0m\n\u001b[1;32m      2\u001b[0m   \u001b[0mmy_dict2\u001b[0m \u001b[0;34m=\u001b[0m \u001b[0;34m{\u001b[0m\u001b[0;34m\"0\"\u001b[0m\u001b[0;34m:\u001b[0m\u001b[0;34m[\u001b[0m\u001b[0;34m]\u001b[0m\u001b[0;34m,\u001b[0m\u001b[0;34m\"1\"\u001b[0m\u001b[0;34m:\u001b[0m\u001b[0;34m[\u001b[0m\u001b[0;34m]\u001b[0m\u001b[0;34m,\u001b[0m\u001b[0;34m\"2\"\u001b[0m\u001b[0;34m:\u001b[0m\u001b[0;34m[\u001b[0m\u001b[0;34m]\u001b[0m\u001b[0;34m,\u001b[0m\u001b[0;34m\"3\"\u001b[0m\u001b[0;34m:\u001b[0m\u001b[0;34m[\u001b[0m\u001b[0;34m]\u001b[0m\u001b[0;34m,\u001b[0m\u001b[0;34m\"4\"\u001b[0m\u001b[0;34m:\u001b[0m\u001b[0;34m[\u001b[0m\u001b[0;34m]\u001b[0m\u001b[0;34m,\u001b[0m\u001b[0;34m\"5\"\u001b[0m\u001b[0;34m:\u001b[0m\u001b[0;34m[\u001b[0m\u001b[0;34m]\u001b[0m\u001b[0;34m,\u001b[0m\u001b[0;34m\"6\"\u001b[0m\u001b[0;34m:\u001b[0m\u001b[0;34m[\u001b[0m\u001b[0;34m]\u001b[0m\u001b[0;34m,\u001b[0m\u001b[0;34m\"7\"\u001b[0m\u001b[0;34m:\u001b[0m\u001b[0;34m[\u001b[0m\u001b[0;34m]\u001b[0m\u001b[0;34m,\u001b[0m\u001b[0;34m\"8\"\u001b[0m\u001b[0;34m:\u001b[0m\u001b[0;34m[\u001b[0m\u001b[0;34m]\u001b[0m\u001b[0;34m,\u001b[0m\u001b[0;34m\"9\"\u001b[0m\u001b[0;34m:\u001b[0m\u001b[0;34m[\u001b[0m\u001b[0;34m]\u001b[0m\u001b[0;34m}\u001b[0m\u001b[0;34m;\u001b[0m\u001b[0;34m\u001b[0m\u001b[0;34m\u001b[0m\u001b[0m\n\u001b[1;32m      3\u001b[0m   \u001b[0;32mfor\u001b[0m \u001b[0mj\u001b[0m \u001b[0;32min\u001b[0m \u001b[0mrange\u001b[0m\u001b[0;34m(\u001b[0m\u001b[0mbatch_size\u001b[0m\u001b[0;34m)\u001b[0m\u001b[0;34m:\u001b[0m\u001b[0;34m\u001b[0m\u001b[0;34m\u001b[0m\u001b[0m\n\u001b[0;32m----> 4\u001b[0;31m       \u001b[0mmy_dict2\u001b[0m\u001b[0;34m[\u001b[0m\u001b[0mstr\u001b[0m\u001b[0;34m(\u001b[0m\u001b[0mj\u001b[0m\u001b[0;34m)\u001b[0m\u001b[0;34m]\u001b[0m\u001b[0;34m.\u001b[0m\u001b[0mappend\u001b[0m\u001b[0;34m(\u001b[0m\u001b[0mrandom\u001b[0m\u001b[0;34m.\u001b[0m\u001b[0mchoice\u001b[0m\u001b[0;34m(\u001b[0m\u001b[0mmy_dict\u001b[0m\u001b[0;34m[\u001b[0m\u001b[0mstr\u001b[0m\u001b[0;34m(\u001b[0m\u001b[0mj\u001b[0m\u001b[0;34m)\u001b[0m\u001b[0;34m]\u001b[0m\u001b[0;34m)\u001b[0m\u001b[0;34m)\u001b[0m\u001b[0;34m;\u001b[0m\u001b[0;34m\u001b[0m\u001b[0;34m\u001b[0m\u001b[0m\n\u001b[0m\u001b[1;32m      5\u001b[0m   \u001b[0;32mfor\u001b[0m \u001b[0mj\u001b[0m \u001b[0;32min\u001b[0m \u001b[0mrange\u001b[0m\u001b[0;34m(\u001b[0m\u001b[0;36m10\u001b[0m\u001b[0;34m)\u001b[0m\u001b[0;34m:\u001b[0m\u001b[0;34m\u001b[0m\u001b[0;34m\u001b[0m\u001b[0m\n\u001b[1;32m      6\u001b[0m       \u001b[0;32mfor\u001b[0m \u001b[0mi\u001b[0m \u001b[0;32min\u001b[0m \u001b[0mrange\u001b[0m\u001b[0;34m(\u001b[0m\u001b[0mlen\u001b[0m\u001b[0;34m(\u001b[0m\u001b[0mmy_dict2\u001b[0m\u001b[0;34m[\u001b[0m\u001b[0mstr\u001b[0m\u001b[0;34m(\u001b[0m\u001b[0mj\u001b[0m\u001b[0;34m)\u001b[0m\u001b[0;34m]\u001b[0m\u001b[0;34m)\u001b[0m\u001b[0;34m)\u001b[0m\u001b[0;34m:\u001b[0m\u001b[0;34m\u001b[0m\u001b[0;34m\u001b[0m\u001b[0m\n",
            "\u001b[0;31mKeyError\u001b[0m: '10'"
          ]
        }
      ]
    },
    {
      "cell_type": "markdown",
      "source": [
        "import random\n",
        "for i in range(32):\n",
        "            my_dict2[\"0\"].append(random.choice(my_dict['0']))\n",
        "            my_dict2[\"1\"].append(random.choice(my_dict['1']))\n",
        "            my_dict2[\"2\"].append(random.choice(my_dict['2']))\n",
        "            my_dict2[\"3\"].append(random.choice(my_dict['3']))\n",
        "            my_dict2[\"4\"].append(random.choice(my_dict['4']))     \n",
        "            my_dict2[\"5\"].append(random.choice(my_dict['5']))   \n",
        "            my_dict2[\"6\"].append(random.choice(my_dict['6']))\n",
        "            my_dict2[\"7\"].append(random.choice(my_dict['7']))\n",
        "            my_dict2[\"8\"].append(random.choice(my_dict['8']))\n",
        "            my_dict2[\"9\"].append(random.choice(my_dict['9']))"
      ],
      "metadata": {
        "id": "42HzthnBjsTM"
      }
    },
    {
      "cell_type": "code",
      "source": [
        "import numpy as np\n",
        "print('X_train_sample_data: ' + str(np.asarray(my_dict2['0']).shape))"
      ],
      "metadata": {
        "id": "puD3THZ4WjJS",
        "outputId": "6c2ab469-ba1a-4a21-b1bf-e7c47b018348",
        "colab": {
          "base_uri": "https://localhost:8080/"
        }
      },
      "execution_count": 98,
      "outputs": [
        {
          "output_type": "stream",
          "name": "stdout",
          "text": [
            "X_train_sample_data: (32, 28, 28)\n"
          ]
        }
      ]
    },
    {
      "cell_type": "markdown",
      "source": [
        "falttening the list"
      ],
      "metadata": {
        "id": "f0QolRpcWDJR"
      }
    },
    {
      "cell_type": "code",
      "source": [
        "import numpy as np\n",
        "for j in range(10):\n",
        "  for i in range(len(my_dict2[str(j)])):  \n",
        "    a = np.array([my_dict2[str(j)][i]]) \n",
        "    b=a.flatten();\n",
        "    my_dict2[str(j)][i]=b ; \n",
        "print('X_train_sample_data: ' + str( np.asarray(my_dict2['7']).shape))\n",
        "  "
      ],
      "metadata": {
        "id": "tzii4eVpdPXP",
        "outputId": "08856989-546e-44d0-f1e7-23c5b658fb71",
        "colab": {
          "base_uri": "https://localhost:8080/"
        }
      },
      "execution_count": 123,
      "outputs": [
        {
          "output_type": "stream",
          "name": "stdout",
          "text": [
            "X_train_sample_data: (32, 784)\n"
          ]
        }
      ]
    }
  ]
}