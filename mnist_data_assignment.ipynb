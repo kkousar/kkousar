{
  "nbformat": 4,
  "nbformat_minor": 0,
  "metadata": {
    "colab": {
      "name": "Untitled11.ipynb",
      "provenance": [],
      "authorship_tag": "ABX9TyMN4liX2x5y2BmadGJtEDoe",
      "include_colab_link": true
    },
    "kernelspec": {
      "name": "python3",
      "display_name": "Python 3"
    },
    "language_info": {
      "name": "python"
    }
  },
  "cells": [
    {
      "cell_type": "markdown",
      "metadata": {
        "id": "view-in-github",
        "colab_type": "text"
      },
      "source": [
        "<a href=\"https://colab.research.google.com/github/kkousar/kkousar/blob/main/mnist_data_assignment.ipynb\" target=\"_parent\"><img src=\"https://colab.research.google.com/assets/colab-badge.svg\" alt=\"Open In Colab\"/></a>"
      ]
    },
    {
      "cell_type": "code",
      "execution_count": 1,
      "metadata": {
        "id": "iubPxkRnvHpX"
      },
      "outputs": [],
      "source": [
        "from keras.datasets import mnist"
      ]
    },
    {
      "cell_type": "code",
      "source": [
        "(train_X, train_y), (test_X, test_y) = mnist.load_data()"
      ],
      "metadata": {
        "colab": {
          "base_uri": "https://localhost:8080/"
        },
        "id": "haHETCNovLnw",
        "outputId": "ff3726e8-fc25-478e-872f-8e332eae8240"
      },
      "execution_count": 2,
      "outputs": [
        {
          "output_type": "stream",
          "name": "stdout",
          "text": [
            "Downloading data from https://storage.googleapis.com/tensorflow/tf-keras-datasets/mnist.npz\n",
            "11493376/11490434 [==============================] - 0s 0us/step\n",
            "11501568/11490434 [==============================] - 0s 0us/step\n"
          ]
        }
      ]
    },
    {
      "cell_type": "code",
      "source": [
        "print('X_train: ' + str(train_X.shape))\n",
        "print('Y_train: ' + str(train_y.shape))\n",
        "print('X_test:  '  + str(test_X.shape))\n",
        "print('Y_test:  '  + str(test_y.shape))"
      ],
      "metadata": {
        "colab": {
          "base_uri": "https://localhost:8080/"
        },
        "id": "P04wPXzdvQwQ",
        "outputId": "31866fcb-0257-4016-a8a1-0c2e64d19d02"
      },
      "execution_count": 3,
      "outputs": [
        {
          "output_type": "stream",
          "name": "stdout",
          "text": [
            "X_train: (60000, 28, 28)\n",
            "Y_train: (60000,)\n",
            "X_test:  (10000, 28, 28)\n",
            "Y_test:  (10000,)\n"
          ]
        }
      ]
    },
    {
      "cell_type": "markdown",
      "source": [
        "creating a dictionary "
      ],
      "metadata": {
        "id": "zzY8w__L80CK"
      }
    },
    {
      "cell_type": "code",
      "source": [
        "my_dict = {\"0\":[],\"1\":[],\"2\":[],\"3\":[],\"4\":[],\"5\":[],\"6\":[],\"7\":[],\"8\":[],\"9\":[]};"
      ],
      "metadata": {
        "id": "8VcplrpR2vfU"
      },
      "execution_count": 21,
      "outputs": []
    },
    {
      "cell_type": "code",
      "source": [
        "num = len(train_X);\n",
        "images = train_X[:num]\n",
        "labels = train_y[:num]"
      ],
      "metadata": {
        "id": "EBLCnJR2ygzu"
      },
      "execution_count": 32,
      "outputs": []
    },
    {
      "cell_type": "code",
      "source": [
        "\n",
        "for i in range(num):\n",
        "     if (labels[i]==0):\n",
        "            my_dict[\"0\"].append(images[i])\n",
        "     elif (labels[i]==1):\n",
        "            my_dict[\"1\"].append(images[i])\n",
        "     elif (labels[i]==2):\n",
        "            my_dict[\"2\"].append(images[i])\n",
        "     elif (labels[i]==3):\n",
        "            my_dict[\"3\"].append(images[i])\n",
        "     elif (labels[i]==4):\n",
        "            my_dict[\"4\"].append(images[i])\n",
        "     elif (labels[i]==5):\n",
        "            my_dict[\"5\"].append(images[i])\n",
        "     elif (labels[i]==6):\n",
        "            my_dict[\"6\"].append(images[i])\n",
        "     elif (labels[i]==7):\n",
        "            my_dict[\"7\"].append(images[i])\n",
        "     elif (labels[i]==8):\n",
        "            my_dict[\"8\"].append(images[i])\n",
        "     elif (labels[i]==9):\n",
        "            my_dict[\"9\"].append(images[i])                           "
      ],
      "metadata": {
        "id": "MpdIvUIKxt3Q"
      },
      "execution_count": 53,
      "outputs": []
    },
    {
      "cell_type": "code",
      "source": [
        "n = 10\n",
        "image = my_dict['7'][0:n]\n",
        "label = train_y[:n]"
      ],
      "metadata": {
        "id": "OIbpbnRs7eu4"
      },
      "execution_count": 54,
      "outputs": []
    },
    {
      "cell_type": "markdown",
      "source": [
        "plotting respective images of dictionary"
      ],
      "metadata": {
        "id": "iPLByED18GGu"
      }
    },
    {
      "cell_type": "code",
      "source": [
        "num_row = 2\n",
        "num_col = 5\n",
        "# plot images\n",
        "fig, axes = plt.subplots(num_row, num_col, figsize=(1.5*num_col,2*num_row))\n",
        "for i in range(n):\n",
        "    ax = axes[i//num_col, i%num_col]\n",
        "    ax.imshow(image[i], cmap='gray')\n",
        "plt.tight_layout()\n",
        "plt.show()"
      ],
      "metadata": {
        "id": "IvawdLCA7rbB"
      },
      "execution_count": null,
      "outputs": []
    }
  ]
}