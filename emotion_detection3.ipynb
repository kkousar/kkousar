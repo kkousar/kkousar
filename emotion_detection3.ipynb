{
  "nbformat": 4,
  "nbformat_minor": 0,
  "metadata": {
    "colab": {
      "name": "Untitled8.ipynb",
      "provenance": [],
      "authorship_tag": "ABX9TyOuvwp4skPxhObm1Hqh0OHn",
      "include_colab_link": true
    },
    "kernelspec": {
      "name": "python3",
      "display_name": "Python 3"
    },
    "language_info": {
      "name": "python"
    }
  },
  "cells": [
    {
      "cell_type": "markdown",
      "metadata": {
        "id": "view-in-github",
        "colab_type": "text"
      },
      "source": [
        "<a href=\"https://colab.research.google.com/github/kkousar/kkousar/blob/main/emotion_detection3.ipynb\" target=\"_parent\"><img src=\"https://colab.research.google.com/assets/colab-badge.svg\" alt=\"Open In Colab\"/></a>"
      ]
    },
    {
      "cell_type": "code",
      "execution_count": null,
      "metadata": {
        "id": "hfpWn3DJLWb8"
      },
      "outputs": [],
      "source": [
        "import numpy as np\n",
        "from keras.models import model_from_json\n",
        "import matplotlib.pyplot as plt\n",
        "from keras.preprocessing.image import ImageDataGenerator\n",
        "from sklearn.metrics import confusion_matrix, classification_report,ConfusionMatrixDisplay\n",
        "\n",
        "\n",
        "\n"
      ]
    },
    {
      "cell_type": "code",
      "source": [
        "emotion_dict = {0: \"Angry\", 1: \"Disgusted\", 2: \"Fearful\", 3: \"Happy\", 4: \"Neutral\", 5: \"Sad\", 6: \"Surprised\"}\n",
        "\n",
        "# load json and create model\n",
        "json_file = open('model/emotion_model.json', 'r')\n",
        "loaded_model_json = json_file.read()\n",
        "json_file.close()\n",
        "emotion_model = model_from_json(loaded_model_json)\n",
        "\n",
        "# load weights into new model\n",
        "emotion_model.load_weights(\"model/emotion_model.h5\")\n",
        "print(\"Loaded model from disk\")\n",
        "\n",
        "# Initialize image data generator with rescaling\n",
        "test_data_gen = ImageDataGenerator(rescale=1./255)\n",
        "\n",
        "# Preprocess all test images\n",
        "test_generator = test_data_gen.flow_from_directory(\n",
        "        'data/test',\n",
        "        target_size=(48, 48),\n",
        "        batch_size=64,\n",
        "        color_mode=\"grayscale\",\n",
        "        class_mode='categorical')\n",
        "\n",
        "# do prediction on test data\n",
        "predictions = emotion_model.predict_generator(test_generator)\n",
        "\n",
        "# see predictions\n",
        "# for result in predictions:\n",
        "#     max_index = int(np.argmax(result))\n",
        "#     print(emotion_dict[max_index])\n",
        "\n",
        "print(\"-----------------------------------------------------------------\")\n",
        "# confusion matrix\n",
        "c_matrix = confusion_matrix(test_generator.classes, predictions.argmax(axis=1))\n",
        "print(c_matrix)\n",
        "cm_display = ConfusionMatrixDisplay(confusion_matrix=c_matrix, display_labels=emotion_dict)\n",
        "cm_display.plot(cmap=plt.cm.Blues)\n",
        "plt.show()\n",
        "\n",
        "# Classification report\n",
        "print(\"-----------------------------------------------------------------\")\n",
        "print(classification_report(test_generator.classes, predictions.argmax(axis=1)))"
      ],
      "metadata": {
        "id": "PvuNxH-TLaYo"
      },
      "execution_count": null,
      "outputs": []
    }
  ]
}