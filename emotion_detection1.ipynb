{
  "nbformat": 4,
  "nbformat_minor": 0,
  "metadata": {
    "colab": {
      "name": "Untitled6.ipynb",
      "provenance": [],
      "mount_file_id": "https://github.com/kkousar/kkousar/blob/main/emotion_detection1.ipynb",
      "authorship_tag": "ABX9TyOCoWUdxLPwXXq4jBIpjnKF",
      "include_colab_link": true
    },
    "kernelspec": {
      "name": "python3",
      "display_name": "Python 3"
    },
    "language_info": {
      "name": "python"
    }
  },
  "cells": [
    {
      "cell_type": "markdown",
      "metadata": {
        "id": "view-in-github",
        "colab_type": "text"
      },
      "source": [
        "<a href=\"https://colab.research.google.com/github/kkousar/kkousar/blob/main/emotion_detection1.ipynb\" target=\"_parent\"><img src=\"https://colab.research.google.com/assets/colab-badge.svg\" alt=\"Open In Colab\"/></a>"
      ]
    },
    {
      "cell_type": "code",
      "execution_count": null,
      "metadata": {
        "id": "BI6r67kcFmn5"
      },
      "outputs": [],
      "source": [
        "!unzip '/content/drive/MyDrive/archive.zip'"
      ]
    },
    {
      "cell_type": "code",
      "source": [
        "!pip install numpy\n",
        "!pip install opencv-python\n",
        "!pip install keras\n",
        "!pip3 install --upgrade tensorflow\n",
        "!pip install pillow"
      ],
      "metadata": {
        "id": "_T9IyfnUICCr"
      },
      "execution_count": null,
      "outputs": []
    },
    {
      "cell_type": "code",
      "source": [
        "# import required packages\n",
        "import cv2\n",
        "from keras.models import Sequential\n",
        "from keras.layers import Conv2D, MaxPooling2D, Dense, Dropout, Flatten\n",
        "from tensorflow.keras.optimizers import Adam\n",
        "from keras.preprocessing.image import ImageDataGenerator"
      ],
      "metadata": {
        "id": "6DjjjPhxJi5n"
      },
      "execution_count": 2,
      "outputs": []
    },
    {
      "cell_type": "code",
      "source": [
        "\n",
        "# Initialize image data generator with rescaling\n",
        "train_data_gen = ImageDataGenerator(rescale=1./255)\n",
        "validation_data_gen = ImageDataGenerator(rescale=1./255)\n",
        "\n",
        "# Preprocess all test images\n",
        "train_generator = train_data_gen.flow_from_directory(\n",
        "        '/content/train',\n",
        "        target_size=(48, 48),\n",
        "        batch_size=64,\n",
        "        color_mode=\"grayscale\",\n",
        "        class_mode='categorical')\n",
        "\n",
        "# Preprocess all train images\n",
        "validation_generator = validation_data_gen.flow_from_directory(\n",
        "        '/content/test',\n",
        "        target_size=(48, 48),\n",
        "        batch_size=64,\n",
        "        color_mode=\"grayscale\",\n",
        "        class_mode='categorical')"
      ],
      "metadata": {
        "colab": {
          "base_uri": "https://localhost:8080/"
        },
        "id": "NS4iFLfJJbgV",
        "outputId": "5dbc84b6-9ead-49ed-c16a-00c2697fc96e"
      },
      "execution_count": 4,
      "outputs": [
        {
          "output_type": "stream",
          "name": "stdout",
          "text": [
            "Found 28709 images belonging to 7 classes.\n",
            "Found 7178 images belonging to 7 classes.\n"
          ]
        }
      ]
    },
    {
      "cell_type": "code",
      "source": [
        "# create model structure\n",
        "emotion_model = Sequential()\n",
        "\n",
        "emotion_model.add(Conv2D(32, kernel_size=(3, 3), activation='relu', input_shape=(48, 48, 1)))\n",
        "emotion_model.add(Conv2D(64, kernel_size=(3, 3), activation='relu'))\n",
        "emotion_model.add(MaxPooling2D(pool_size=(2, 2)))\n",
        "emotion_model.add(Dropout(0.25))\n",
        "\n",
        "emotion_model.add(Conv2D(128, kernel_size=(3, 3), activation='relu'))\n",
        "emotion_model.add(MaxPooling2D(pool_size=(2, 2)))\n",
        "emotion_model.add(Conv2D(128, kernel_size=(3, 3), activation='relu'))\n",
        "emotion_model.add(MaxPooling2D(pool_size=(2, 2)))\n",
        "emotion_model.add(Dropout(0.25))\n",
        "\n",
        "emotion_model.add(Flatten())\n",
        "emotion_model.add(Dense(1024, activation='relu'))\n",
        "emotion_model.add(Dropout(0.5))\n",
        "emotion_model.add(Dense(7, activation='softmax'))\n",
        "\n",
        "cv2.ocl.setUseOpenCL(False)\n",
        "\n",
        "emotion_model.compile(loss='categorical_crossentropy', optimizer=Adam(lr=0.0001, decay=1e-6), metrics=['accuracy'])"
      ],
      "metadata": {
        "colab": {
          "base_uri": "https://localhost:8080/"
        },
        "id": "qvVNEz2PJ6jD",
        "outputId": "9e73c16d-95be-4633-e69f-9bab0575aff5"
      },
      "execution_count": 5,
      "outputs": [
        {
          "output_type": "stream",
          "name": "stderr",
          "text": [
            "/usr/local/lib/python3.7/dist-packages/keras/optimizer_v2/adam.py:105: UserWarning: The `lr` argument is deprecated, use `learning_rate` instead.\n",
            "  super(Adam, self).__init__(name, **kwargs)\n"
          ]
        }
      ]
    },
    {
      "cell_type": "code",
      "source": [
        "# Train the neural network/model\n",
        "emotion_model_info = emotion_model.fit_generator(\n",
        "        train_generator,\n",
        "        steps_per_epoch=28709 // 64,\n",
        "        epochs=10,\n",
        "        validation_data=validation_generator,\n",
        "        validation_steps=7178 // 64)\n",
        "\n",
        "# save model structure in jason file\n",
        "model_json = emotion_model.to_json()\n",
        "with open(\"emotion_model.json\", \"w\") as json_file:\n",
        "    json_file.write(model_json)\n",
        "\n",
        "# save trained model weight in .h5 file\n",
        "emotion_model.save_weights('emotion_model.h5')"
      ],
      "metadata": {
        "colab": {
          "base_uri": "https://localhost:8080/"
        },
        "id": "jFiog34xKAtv",
        "outputId": "f936c32b-3f09-4d85-936c-83eddc1fff81"
      },
      "execution_count": null,
      "outputs": [
        {
          "metadata": {
            "tags": null
          },
          "name": "stderr",
          "output_type": "stream",
          "text": [
            "/usr/local/lib/python3.7/dist-packages/ipykernel_launcher.py:7: UserWarning: `Model.fit_generator` is deprecated and will be removed in a future version. Please use `Model.fit`, which supports generators.\n",
            "  import sys\n"
          ]
        },
        {
          "output_type": "stream",
          "name": "stdout",
          "text": [
            "Epoch 1/10\n",
            "448/448 [==============================] - 404s 901ms/step - loss: 1.8106 - accuracy: 0.2528 - val_loss: 1.7470 - val_accuracy: 0.3079\n",
            "Epoch 2/10\n",
            "448/448 [==============================] - 403s 901ms/step - loss: 1.6473 - accuracy: 0.3573 - val_loss: 1.5555 - val_accuracy: 0.4014\n",
            "Epoch 3/10\n",
            "448/448 [==============================] - 401s 895ms/step - loss: 1.5396 - accuracy: 0.4071 - val_loss: 1.4736 - val_accuracy: 0.4415\n",
            "Epoch 4/10\n",
            "448/448 [==============================] - 399s 891ms/step - loss: 1.4641 - accuracy: 0.4380 - val_loss: 1.4184 - val_accuracy: 0.4580\n",
            "Epoch 5/10\n",
            "448/448 [==============================] - 401s 895ms/step - loss: 1.4029 - accuracy: 0.4636 - val_loss: 1.3595 - val_accuracy: 0.4834\n",
            "Epoch 6/10\n",
            "448/448 [==============================] - 401s 895ms/step - loss: 1.3601 - accuracy: 0.4815 - val_loss: 1.3293 - val_accuracy: 0.4950\n",
            "Epoch 7/10\n",
            "448/448 [==============================] - 401s 896ms/step - loss: 1.3121 - accuracy: 0.4994 - val_loss: 1.2857 - val_accuracy: 0.5156\n",
            "Epoch 8/10\n",
            "132/448 [=======>......................] - ETA: 4:28 - loss: 1.2892 - accuracy: 0.5120"
          ]
        }
      ]
    }
  ]
}