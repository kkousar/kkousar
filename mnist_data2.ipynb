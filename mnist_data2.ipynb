{
  "nbformat": 4,
  "nbformat_minor": 0,
  "metadata": {
    "colab": {
      "name": "Untitled11.ipynb",
      "provenance": [],
      "mount_file_id": "https://github.com/kkousar/kkousar/blob/main/mnist_data_assignment.ipynb",
      "authorship_tag": "ABX9TyOdGyWBUBBw/B905cWxUkII",
      "include_colab_link": true
    },
    "kernelspec": {
      "name": "python3",
      "display_name": "Python 3"
    },
    "language_info": {
      "name": "python"
    }
  },
  "cells": [
    {
      "cell_type": "markdown",
      "metadata": {
        "id": "view-in-github",
        "colab_type": "text"
      },
      "source": [
        "<a href=\"https://colab.research.google.com/github/kkousar/kkousar/blob/main/mnist_data2.ipynb\" target=\"_parent\"><img src=\"https://colab.research.google.com/assets/colab-badge.svg\" alt=\"Open In Colab\"/></a>"
      ]
    },
    {
      "cell_type": "markdown",
      "source": [
        "#reading mnist files and storing"
      ],
      "metadata": {
        "id": "1UEgtXydq2VN"
      }
    },
    {
      "cell_type": "code",
      "source": [
        "!pip install idx2numpy"
      ],
      "metadata": {
        "id": "niGhuYz_nkDm"
      },
      "execution_count": null,
      "outputs": []
    },
    {
      "cell_type": "code",
      "source": [
        "import idx2numpy\n",
        "import numpy as np\n",
        "file1= '/content/drive/MyDrive/working_directory/dataset/MNIST/train-images-idx3-ubyte'\n",
        "images_o= idx2numpy.convert_from_file(file1)\n",
        "\n",
        "file2='/content/drive/MyDrive/working_directory/dataset/MNIST/train-labels-idx1-ubyte'\n",
        "labels_o=idx2numpy.convert_from_file(file2)\n"
      ],
      "metadata": {
        "id": "rU_VXJwhnj7G"
      },
      "execution_count": 11,
      "outputs": []
    },
    {
      "cell_type": "code",
      "source": [
        "print('X_train: ' + str(images_o.shape))\n",
        "print('Y_train: ' + str(labels_o.shape))"
      ],
      "metadata": {
        "id": "iaMPPuCbo7OH",
        "outputId": "1ecf1156-4e5f-4f24-dcc6-85ba25b0973a",
        "colab": {
          "base_uri": "https://localhost:8080/"
        }
      },
      "execution_count": 12,
      "outputs": [
        {
          "output_type": "stream",
          "name": "stdout",
          "text": [
            "X_train: (60000, 28, 28)\n",
            "Y_train: (60000,)\n"
          ]
        }
      ]
    },
    {
      "cell_type": "markdown",
      "source": [
        "#creating a dictionary and storing respestive images"
      ],
      "metadata": {
        "id": "zzY8w__L80CK"
      }
    },
    {
      "cell_type": "code",
      "source": [
        "my_dict = {\"0\":[],\"1\":[],\"2\":[],\"3\":[],\"4\":[],\"5\":[],\"6\":[],\"7\":[],\"8\":[],\"9\":[]};"
      ],
      "metadata": {
        "id": "8VcplrpR2vfU"
      },
      "execution_count": 13,
      "outputs": []
    },
    {
      "cell_type": "code",
      "source": [
        "num = len(images_o);\n",
        "images = images_o[:num]\n",
        "labels = labels_o[:num]"
      ],
      "metadata": {
        "id": "EBLCnJR2ygzu"
      },
      "execution_count": 14,
      "outputs": []
    },
    {
      "cell_type": "code",
      "source": [
        "for i in range(10) :\n",
        "   for j in range(num) :\n",
        "      if (labels[j]==i):\n",
        "         my_dict[str(i)].append(images[j])                        "
      ],
      "metadata": {
        "id": "MpdIvUIKxt3Q"
      },
      "execution_count": 15,
      "outputs": []
    },
    {
      "cell_type": "markdown",
      "source": [
        "#plotting respective images of dictionary"
      ],
      "metadata": {
        "id": "iPLByED18GGu"
      }
    },
    {
      "cell_type": "code",
      "source": [
        "import matplotlib.pyplot as plt\n",
        "\n",
        "n=15\n",
        "image = my_dict['4']\n",
        "num_row = 3\n",
        "num_col = 5\n",
        "# plot images\n",
        "fig, axes = plt.subplots(num_row, num_col, figsize=(1.5*num_col,2*num_row))\n",
        "for i in range(n):\n",
        "    ax = axes[i//num_col, i%num_col]\n",
        "    ax.imshow(image[i], cmap='gray')\n",
        "plt.tight_layout()\n",
        "plt.show()"
      ],
      "metadata": {
        "id": "IvawdLCA7rbB"
      },
      "execution_count": null,
      "outputs": []
    },
    {
      "cell_type": "code",
      "source": [
        "import numpy as np\n",
        "print('X_train_sample_data: ' + str(np.asarray(my_dict['0']).shape))"
      ],
      "metadata": {
        "id": "SLFD8Ndap1Ge",
        "outputId": "fd4e7a5a-3567-4b99-a65c-e1d3d44480c3",
        "colab": {
          "base_uri": "https://localhost:8080/"
        }
      },
      "execution_count": 17,
      "outputs": [
        {
          "output_type": "stream",
          "name": "stdout",
          "text": [
            "X_train_sample_data: (5923, 28, 28)\n"
          ]
        }
      ]
    },
    {
      "cell_type": "markdown",
      "source": [
        "#sampling"
      ],
      "metadata": {
        "id": "w512LECLMVSg"
      }
    },
    {
      "cell_type": "code",
      "source": [
        "import numpy as np\n",
        "import random\n",
        "my_dict2 = {\"0\":[],\"1\":[],\"2\":[],\"3\":[],\"4\":[],\"5\":[],\"6\":[],\"7\":[],\"8\":[],\"9\":[]};\n",
        "\n",
        "def sample_data(batch_size,digit):\n",
        "  \n",
        " \n",
        "   for j in range(10):\n",
        "      for i in range(batch_size):\n",
        "        my_dict2[str(j)].append(random.choice(my_dict[str(j)]));\n",
        "   for j in range(10):\n",
        "      for i in range(len(my_dict2[str(j)])):  \n",
        "        a = np.array([my_dict2[str(j)][i]]);\n",
        "        b=a.flatten();\n",
        "        my_dict2[str(j)][i]=b; \n",
        "   return  str(np.asarray(my_dict2[str(digit)]).shape);\n",
        "  "
      ],
      "metadata": {
        "id": "4QhFGxE4jYIU"
      },
      "execution_count": 18,
      "outputs": []
    },
    {
      "cell_type": "code",
      "source": [
        "print(sample_data(12,5));"
      ],
      "metadata": {
        "id": "_EJEmC-9keQQ",
        "outputId": "ccbf3d6b-2aa6-4c48-cbe8-38615cddc443",
        "colab": {
          "base_uri": "https://localhost:8080/"
        }
      },
      "execution_count": 22,
      "outputs": [
        {
          "output_type": "stream",
          "name": "stdout",
          "text": [
            "(264, 784)\n"
          ]
        }
      ]
    },
    {
      "cell_type": "code",
      "source": [
        "print(my_dict2[str(0)]);"
      ],
      "metadata": {
        "id": "uPvABf2eqNnD"
      },
      "execution_count": null,
      "outputs": []
    }
  ]
}